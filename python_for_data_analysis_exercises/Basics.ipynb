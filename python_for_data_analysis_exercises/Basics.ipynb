{
 "cells": [
  {
   "cell_type": "code",
   "execution_count": 1,
   "id": "2013a1f4-91a8-4dd1-97ce-1486dd10310a",
   "metadata": {},
   "outputs": [],
   "source": [
    "import numpy as np"
   ]
  },
  {
   "cell_type": "code",
   "execution_count": 2,
   "id": "f3043bee-6dae-4ad0-b018-44d70f26189c",
   "metadata": {},
   "outputs": [
    {
     "data": {
      "text/plain": [
       "[0.6155731151926535,\n",
       " -0.3990860275670454,\n",
       " -1.4610577547670602,\n",
       " -1.399862545057716,\n",
       " -1.8951296114972986,\n",
       " 0.41382845610831487,\n",
       " 0.7195790511145853]"
      ]
     },
     "execution_count": 2,
     "metadata": {},
     "output_type": "execute_result"
    }
   ],
   "source": [
    "data = [np.random.standard_normal() for _ in range(7)]\n",
    "data"
   ]
  },
  {
   "cell_type": "code",
   "execution_count": 4,
   "id": "49019ac9-898d-4720-8845-fd6bcb67bdaf",
   "metadata": {},
   "outputs": [
    {
     "data": {
      "text/plain": [
       "\u001b[1;31mType:\u001b[0m        list\n",
       "\u001b[1;31mString form:\u001b[0m [0.6155731151926535, -0.3990860275670454, -1.4610577547670602, -1.399862545057716, -1.8951296114972986, 0.41382845610831487, 0.7195790511145853]\n",
       "\u001b[1;31mLength:\u001b[0m      7\n",
       "\u001b[1;31mDocstring:\u001b[0m  \n",
       "Built-in mutable sequence.\n",
       "\n",
       "If no argument is given, the constructor creates a new empty list.\n",
       "The argument must be an iterable if specified."
      ]
     },
     "metadata": {},
     "output_type": "display_data"
    }
   ],
   "source": [
    "# the '?' after a variable gives you informations about it\n",
    "data?"
   ]
  },
  {
   "cell_type": "code",
   "execution_count": 6,
   "id": "a103cdb4-1f0b-4a1e-bc9c-f3418eb907de",
   "metadata": {},
   "outputs": [
    {
     "data": {
      "text/plain": [
       "<function list.append(object, /)>"
      ]
     },
     "execution_count": 6,
     "metadata": {},
     "output_type": "execute_result"
    }
   ],
   "source": [
    "# attribute and method can be accessed by name via getattr\n",
    "getattr(data, \"append\")"
   ]
  },
  {
   "cell_type": "code",
   "execution_count": 10,
   "id": "34b5cdf8-1e28-4249-815b-34208bcd0763",
   "metadata": {},
   "outputs": [],
   "source": [
    "#Duck typing: If it walks like a duck and quacks like a duck, then it’s a duck.\n",
    "\n",
    "def isiterable(obj):\n",
    "    try:\n",
    "        iter(obj)\n",
    "        return True\n",
    "    except TypeError:\n",
    "        return False"
   ]
  },
  {
   "cell_type": "code",
   "execution_count": 11,
   "id": "a8edebb8-e9d4-43c5-944a-0c0b0cd27009",
   "metadata": {},
   "outputs": [
    {
     "data": {
      "text/plain": [
       "True"
      ]
     },
     "execution_count": 11,
     "metadata": {},
     "output_type": "execute_result"
    }
   ],
   "source": [
    "isiterable(\"a string\")"
   ]
  },
  {
   "cell_type": "code",
   "execution_count": 12,
   "id": "dd1d72e8-bb03-47ad-a50b-9a36bf529f02",
   "metadata": {},
   "outputs": [
    {
     "data": {
      "text/plain": [
       "False"
      ]
     },
     "execution_count": 12,
     "metadata": {},
     "output_type": "execute_result"
    }
   ],
   "source": [
    "isiterable(5)"
   ]
  },
  {
   "cell_type": "code",
   "execution_count": 14,
   "id": "8a9e165e-24fd-4817-914c-b6b122378e55",
   "metadata": {},
   "outputs": [
    {
     "data": {
      "text/plain": [
       "'this\\\\has\\\\no\\\\special\\\\characters'"
      ]
     },
     "execution_count": 14,
     "metadata": {},
     "output_type": "execute_result"
    }
   ],
   "source": [
    "# the backslash character is an escape character --> it is used to specify special characters like newliine \\n or Unicode characters\n",
    "# you can avoid the escaping by using r (which stands for raw) before the string\n",
    "\n",
    "s = r\"this\\has\\no\\special\\characters\"\n",
    "s"
   ]
  },
  {
   "cell_type": "code",
   "execution_count": 18,
   "id": "6f565b22-abbb-416a-ac06-c45d95d60c57",
   "metadata": {},
   "outputs": [
    {
     "data": {
      "text/plain": [
       "'88.46 Argentine Pesos are worth US $1'"
      ]
     },
     "execution_count": 18,
     "metadata": {},
     "output_type": "execute_result"
    }
   ],
   "source": [
    "# String object has a format method\n",
    "template = \"{0:.2f} {1:s} are worth US ${2:d}\"\n",
    "formatted_string = template.format(88.46, \"Argentine Pesos\", 1)\n",
    "formatted_string"
   ]
  },
  {
   "cell_type": "code",
   "execution_count": 22,
   "id": "5c690cc7-480a-47ba-8a66-54047fa2087a",
   "metadata": {},
   "outputs": [
    {
     "data": {
      "text/plain": [
       "'88.46 Argentine Pesos are worth US $1'"
      ]
     },
     "execution_count": 22,
     "metadata": {},
     "output_type": "execute_result"
    }
   ],
   "source": [
    "# an alternative way to write format using args\n",
    "list = [88.46, \"Argentine Pesos\", 1]\n",
    "template.format(*list)"
   ]
  },
  {
   "cell_type": "code",
   "execution_count": 30,
   "id": "a26277ae-096f-4896-8b33-148264413302",
   "metadata": {},
   "outputs": [
    {
     "data": {
      "text/plain": [
       "'88.46 Argentine Pesos are worth US $1'"
      ]
     },
     "execution_count": 30,
     "metadata": {},
     "output_type": "execute_result"
    }
   ],
   "source": [
    "# an alternative way to write format using kwargs\n",
    "template = \"{amount:.2f} {currency} are worth US ${value:d}\"\n",
    "my_dict = {'amount': 88.46, 'currency': \"Argentine Pesos\", 'value': 1}\n",
    "formatted_string = template.format(**my_dict)\n",
    "formatted_string"
   ]
  },
  {
   "cell_type": "code",
   "execution_count": 36,
   "id": "cf04a669-e037-4914-b1fe-a9c656ceb945",
   "metadata": {},
   "outputs": [
    {
     "data": {
      "text/plain": [
       "[17, 10, 9, 5, 34, 3, 2, 7]"
      ]
     },
     "execution_count": 36,
     "metadata": {},
     "output_type": "execute_result"
    }
   ],
   "source": [
    "seq = [7, 2, 3, 34, 5, 9, 10, 17]\n",
    "seq[::-1]"
   ]
  },
  {
   "cell_type": "code",
   "execution_count": 37,
   "id": "5ce78c17-1b4b-4574-9271-18352d8bc74a",
   "metadata": {},
   "outputs": [
    {
     "data": {
      "text/plain": [
       "[7, 2, 3, 34, 5, 9, 10, 17]"
      ]
     },
     "execution_count": 37,
     "metadata": {},
     "output_type": "execute_result"
    }
   ],
   "source": [
    "seq"
   ]
  },
  {
   "cell_type": "code",
   "execution_count": 39,
   "id": "ea708c5c-7a7d-40fb-9c62-182a429a2792",
   "metadata": {},
   "outputs": [
    {
     "data": {
      "text/plain": [
       "862147222574729518"
      ]
     },
     "execution_count": 39,
     "metadata": {},
     "output_type": "execute_result"
    }
   ],
   "source": [
    "# Valid dictionary key types --> you check their hashability, which stands for checking whether it can be used as a key in dictionary\n",
    "hash(\"string\")"
   ]
  },
  {
   "cell_type": "code",
   "execution_count": 45,
   "id": "96f7c112-788d-4e9d-9404-c83f3182e239",
   "metadata": {},
   "outputs": [
    {
     "name": "stdout",
     "output_type": "stream",
     "text": [
      "Error encountered: unhashable type: 'list'\n"
     ]
    }
   ],
   "source": [
    "# lists instead are non hashable\n",
    "try:\n",
    "    hash((1,2,[2,3]))\n",
    "except TypeError as e:\n",
    "    print(f\"Error encountered: {e}\")"
   ]
  },
  {
   "cell_type": "code",
   "execution_count": 41,
   "id": "0800d816-eed3-4b10-beda-ec3a3eb06ab8",
   "metadata": {},
   "outputs": [
    {
     "data": {
      "text/plain": [
       "{1, 2, 3}"
      ]
     },
     "execution_count": 41,
     "metadata": {},
     "output_type": "execute_result"
    }
   ],
   "source": [
    "# Set description: unordered collection of unique elements.\n",
    "set([2,2,2,1,3,3])"
   ]
  },
  {
   "cell_type": "code",
   "execution_count": 54,
   "id": "75b405ff-53cf-4dac-8ab2-a870bb3d50e6",
   "metadata": {},
   "outputs": [
    {
     "data": {
      "text/plain": [
       "['a', 'as', 'BAT', 'CAR', 'DOVE', 'PYTHON']"
      ]
     },
     "execution_count": 54,
     "metadata": {},
     "output_type": "execute_result"
    }
   ],
   "source": [
    "# list comprehension with conditions\n",
    "strings = [\"a\", \"as\", \"bat\", \"car\", \"dove\", \"python\"]\n",
    "[x.upper() for x in strings if len(x) > 2 ]\n",
    "\n",
    "# If I want to add also an else statement:\n",
    "result = [x.upper() if len(x) > 2 else x.lower() for x in strings]\n",
    "result"
   ]
  },
  {
   "cell_type": "code",
   "execution_count": 58,
   "id": "62ce94f1-f15a-4207-a980-7e64ac5b47ba",
   "metadata": {},
   "outputs": [
    {
     "data": {
      "text/plain": [
       "[8, 0, 2, 10, 12]"
      ]
     },
     "execution_count": 58,
     "metadata": {},
     "output_type": "execute_result"
    }
   ],
   "source": [
    "#Anonymous or lambda functions are a way of writing functions consisting of a single statement, the result of which is the return value\n",
    "def apply_to_lists(some_list, f):\n",
    "    return [f(x) for x in some_list]\n",
    "\n",
    "ints = [4, 0, 1, 5, 6]\n",
    "apply_to_lists(ints, lambda x: x*2)"
   ]
  },
  {
   "cell_type": "code",
   "execution_count": 59,
   "id": "e0292753-ab3c-4cb7-a713-f1b8b315ef45",
   "metadata": {},
   "outputs": [
    {
     "data": {
      "text/plain": [
       "['aaaa', 'foo', 'abab', 'bar', 'card']"
      ]
     },
     "execution_count": 59,
     "metadata": {},
     "output_type": "execute_result"
    }
   ],
   "source": [
    "#another example: order a list by the number of different characters the word contains\n",
    "strings = [\"foo\", \"card\", \"bar\", \"aaaa\", \"abab\"]\n",
    "strings.sort(key = lambda x: len(set(x)))\n",
    "strings"
   ]
  },
  {
   "cell_type": "code",
   "execution_count": 67,
   "id": "23c4b0cb-c1ab-4414-a1ff-f8c4e9b92c8e",
   "metadata": {},
   "outputs": [
    {
     "name": "stdout",
     "output_type": "stream",
     "text": [
      "Generating squares from 1 to {n ** 2}\n",
      "1 4 9 16 25 36 49 64 81 100 "
     ]
    }
   ],
   "source": [
    "# A generator is a convenient way to construct an iterable object\n",
    "def squares(n = 10):\n",
    "    print(\"Generating squares from 1 to {n ** 2}\")\n",
    "    for i in range(1, n +1):\n",
    "        yield i ** 2\n",
    "\n",
    "gen = squares()\n",
    "for x in gen:\n",
    "    print(x, end = \" \")"
   ]
  },
  {
   "cell_type": "code",
   "execution_count": 69,
   "id": "5788e56b-9b0a-4511-ae34-9bba4d25c007",
   "metadata": {},
   "outputs": [],
   "source": [
    "#generator expression\n",
    "gen = (x ** 2 for x in range(100))"
   ]
  },
  {
   "cell_type": "code",
   "execution_count": null,
   "id": "d3cc3700-099d-4ad2-b143-fc7b0b616fbc",
   "metadata": {},
   "outputs": [],
   "source": []
  }
 ],
 "metadata": {
  "kernelspec": {
   "display_name": "Python 3 (ipykernel)",
   "language": "python",
   "name": "python3"
  },
  "language_info": {
   "codemirror_mode": {
    "name": "ipython",
    "version": 3
   },
   "file_extension": ".py",
   "mimetype": "text/x-python",
   "name": "python",
   "nbconvert_exporter": "python",
   "pygments_lexer": "ipython3",
   "version": "3.11.3"
  }
 },
 "nbformat": 4,
 "nbformat_minor": 5
}
